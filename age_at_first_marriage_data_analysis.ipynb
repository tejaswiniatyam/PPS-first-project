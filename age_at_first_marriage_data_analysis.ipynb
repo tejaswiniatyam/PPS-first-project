{
  "cells": [
    {
      "cell_type": "markdown",
      "id": "9539fd2a",
      "metadata": {
        "papermill": {
          "duration": 0.009544,
          "end_time": "2022-12-01T14:58:26.507437",
          "exception": false,
          "start_time": "2022-12-01T14:58:26.497893",
          "status": "completed"
        },
        "tags": [],
        "id": "9539fd2a"
      },
      "source": [
        "### Background"
      ]
    },
    {
      "cell_type": "markdown",
      "id": "a2865aa1",
      "metadata": {
        "papermill": {
          "duration": 0.007938,
          "end_time": "2022-12-01T14:58:26.523694",
          "exception": false,
          "start_time": "2022-12-01T14:58:26.515756",
          "status": "completed"
        },
        "tags": [],
        "id": "a2865aa1"
      },
      "source": [
        "In this notebook, we will be doing a quick analysis on the dataset Median Age at First Marriage in America."
      ]
    },
    {
      "cell_type": "markdown",
      "id": "c5effdf4",
      "metadata": {
        "papermill": {
          "duration": 0.008538,
          "end_time": "2022-12-01T14:58:26.540407",
          "exception": false,
          "start_time": "2022-12-01T14:58:26.531869",
          "status": "completed"
        },
        "tags": [],
        "id": "c5effdf4"
      },
      "source": [
        "---"
      ]
    },
    {
      "cell_type": "markdown",
      "id": "6f5037b4",
      "metadata": {
        "papermill": {
          "duration": 0.007815,
          "end_time": "2022-12-01T14:58:26.556530",
          "exception": false,
          "start_time": "2022-12-01T14:58:26.548715",
          "status": "completed"
        },
        "tags": [],
        "id": "6f5037b4"
      },
      "source": [
        "### Problem Statement"
      ]
    },
    {
      "cell_type": "markdown",
      "id": "b08a368f",
      "metadata": {
        "papermill": {
          "duration": 0.00775,
          "end_time": "2022-12-01T14:58:26.572518",
          "exception": false,
          "start_time": "2022-12-01T14:58:26.564768",
          "status": "completed"
        },
        "tags": [],
        "id": "b08a368f"
      },
      "source": [
        "In this analysis, we will be studying whether Population Density have an impact on the Median Age at first marriage of women."
      ]
    },
    {
      "cell_type": "markdown",
      "id": "89d454e4",
      "metadata": {
        "papermill": {
          "duration": 0.00816,
          "end_time": "2022-12-01T14:58:26.590268",
          "exception": false,
          "start_time": "2022-12-01T14:58:26.582108",
          "status": "completed"
        },
        "tags": [],
        "id": "89d454e4"
      },
      "source": [
        "---"
      ]
    },
    {
      "cell_type": "markdown",
      "id": "2e92cb55",
      "metadata": {
        "papermill": {
          "duration": 0.007755,
          "end_time": "2022-12-01T14:58:26.606715",
          "exception": false,
          "start_time": "2022-12-01T14:58:26.598960",
          "status": "completed"
        },
        "tags": [],
        "id": "2e92cb55"
      },
      "source": [
        "### Import Libraries"
      ]
    },
    {
      "cell_type": "code",
      "execution_count": 1,
      "id": "82635063",
      "metadata": {
        "execution": {
          "iopub.execute_input": "2022-12-01T14:58:26.625094Z",
          "iopub.status.busy": "2022-12-01T14:58:26.624383Z",
          "iopub.status.idle": "2022-12-01T14:58:27.784495Z",
          "shell.execute_reply": "2022-12-01T14:58:27.783418Z"
        },
        "papermill": {
          "duration": 1.172583,
          "end_time": "2022-12-01T14:58:27.787364",
          "exception": false,
          "start_time": "2022-12-01T14:58:26.614781",
          "status": "completed"
        },
        "tags": [],
        "id": "82635063"
      },
      "outputs": [],
      "source": [
        "import numpy as np\n",
        "import pandas as pd\n",
        "\n",
        "import matplotlib.pyplot as plt\n",
        "import seaborn as sns"
      ]
    },
    {
      "cell_type": "markdown",
      "id": "b6f0438d",
      "metadata": {
        "papermill": {
          "duration": 0.007994,
          "end_time": "2022-12-01T14:58:27.803851",
          "exception": false,
          "start_time": "2022-12-01T14:58:27.795857",
          "status": "completed"
        },
        "tags": [],
        "id": "b6f0438d"
      },
      "source": [
        "---"
      ]
    },
    {
      "cell_type": "markdown",
      "id": "ac4d7d1b",
      "metadata": {
        "papermill": {
          "duration": 0.008148,
          "end_time": "2022-12-01T14:58:27.820175",
          "exception": false,
          "start_time": "2022-12-01T14:58:27.812027",
          "status": "completed"
        },
        "tags": [],
        "id": "ac4d7d1b"
      },
      "source": [
        "### Import Data"
      ]
    },
    {
      "cell_type": "code",
      "execution_count": 2,
      "id": "f16cfedb",
      "metadata": {
        "execution": {
          "iopub.execute_input": "2022-12-01T14:58:27.838541Z",
          "iopub.status.busy": "2022-12-01T14:58:27.838124Z",
          "iopub.status.idle": "2022-12-01T14:58:27.877458Z",
          "shell.execute_reply": "2022-12-01T14:58:27.876629Z"
        },
        "papermill": {
          "duration": 0.051703,
          "end_time": "2022-12-01T14:58:27.880273",
          "exception": false,
          "start_time": "2022-12-01T14:58:27.828570",
          "status": "completed"
        },
        "tags": [],
        "id": "f16cfedb",
        "outputId": "ce411a54-4a5c-47b0-adba-0d0c93aa54d5",
        "colab": {
          "base_uri": "https://localhost:8080/",
          "height": 206
        }
      },
      "outputs": [
        {
          "output_type": "execute_result",
          "data": {
            "text/plain": [
              "   index FIPS        Name   Type  TimeFrame  Median Age  \\\n",
              "0      0    1     Alabama  State  2006-2010        25.5   \n",
              "1      1    2      Alaska  State  2006-2010        24.8   \n",
              "2      2    4     Arizona  State  2006-2010        25.6   \n",
              "3      3    5    Arkansas  State  2006-2010        24.5   \n",
              "4      4    6  California  State  2006-2010        26.9   \n",
              "\n",
              "   Population Density per Sq Mi  \n",
              "0                          94.4  \n",
              "1                           1.2  \n",
              "2                          56.3  \n",
              "3                          56.0  \n",
              "4                         239.1  "
            ],
            "text/html": [
              "\n",
              "  <div id=\"df-50c09e9e-cc9b-49b3-8620-9138c27ebd63\">\n",
              "    <div class=\"colab-df-container\">\n",
              "      <div>\n",
              "<style scoped>\n",
              "    .dataframe tbody tr th:only-of-type {\n",
              "        vertical-align: middle;\n",
              "    }\n",
              "\n",
              "    .dataframe tbody tr th {\n",
              "        vertical-align: top;\n",
              "    }\n",
              "\n",
              "    .dataframe thead th {\n",
              "        text-align: right;\n",
              "    }\n",
              "</style>\n",
              "<table border=\"1\" class=\"dataframe\">\n",
              "  <thead>\n",
              "    <tr style=\"text-align: right;\">\n",
              "      <th></th>\n",
              "      <th>index</th>\n",
              "      <th>FIPS</th>\n",
              "      <th>Name</th>\n",
              "      <th>Type</th>\n",
              "      <th>TimeFrame</th>\n",
              "      <th>Median Age</th>\n",
              "      <th>Population Density per Sq Mi</th>\n",
              "    </tr>\n",
              "  </thead>\n",
              "  <tbody>\n",
              "    <tr>\n",
              "      <th>0</th>\n",
              "      <td>0</td>\n",
              "      <td>1</td>\n",
              "      <td>Alabama</td>\n",
              "      <td>State</td>\n",
              "      <td>2006-2010</td>\n",
              "      <td>25.5</td>\n",
              "      <td>94.4</td>\n",
              "    </tr>\n",
              "    <tr>\n",
              "      <th>1</th>\n",
              "      <td>1</td>\n",
              "      <td>2</td>\n",
              "      <td>Alaska</td>\n",
              "      <td>State</td>\n",
              "      <td>2006-2010</td>\n",
              "      <td>24.8</td>\n",
              "      <td>1.2</td>\n",
              "    </tr>\n",
              "    <tr>\n",
              "      <th>2</th>\n",
              "      <td>2</td>\n",
              "      <td>4</td>\n",
              "      <td>Arizona</td>\n",
              "      <td>State</td>\n",
              "      <td>2006-2010</td>\n",
              "      <td>25.6</td>\n",
              "      <td>56.3</td>\n",
              "    </tr>\n",
              "    <tr>\n",
              "      <th>3</th>\n",
              "      <td>3</td>\n",
              "      <td>5</td>\n",
              "      <td>Arkansas</td>\n",
              "      <td>State</td>\n",
              "      <td>2006-2010</td>\n",
              "      <td>24.5</td>\n",
              "      <td>56.0</td>\n",
              "    </tr>\n",
              "    <tr>\n",
              "      <th>4</th>\n",
              "      <td>4</td>\n",
              "      <td>6</td>\n",
              "      <td>California</td>\n",
              "      <td>State</td>\n",
              "      <td>2006-2010</td>\n",
              "      <td>26.9</td>\n",
              "      <td>239.1</td>\n",
              "    </tr>\n",
              "  </tbody>\n",
              "</table>\n",
              "</div>\n",
              "      <button class=\"colab-df-convert\" onclick=\"convertToInteractive('df-50c09e9e-cc9b-49b3-8620-9138c27ebd63')\"\n",
              "              title=\"Convert this dataframe to an interactive table.\"\n",
              "              style=\"display:none;\">\n",
              "        \n",
              "  <svg xmlns=\"http://www.w3.org/2000/svg\" height=\"24px\"viewBox=\"0 0 24 24\"\n",
              "       width=\"24px\">\n",
              "    <path d=\"M0 0h24v24H0V0z\" fill=\"none\"/>\n",
              "    <path d=\"M18.56 5.44l.94 2.06.94-2.06 2.06-.94-2.06-.94-.94-2.06-.94 2.06-2.06.94zm-11 1L8.5 8.5l.94-2.06 2.06-.94-2.06-.94L8.5 2.5l-.94 2.06-2.06.94zm10 10l.94 2.06.94-2.06 2.06-.94-2.06-.94-.94-2.06-.94 2.06-2.06.94z\"/><path d=\"M17.41 7.96l-1.37-1.37c-.4-.4-.92-.59-1.43-.59-.52 0-1.04.2-1.43.59L10.3 9.45l-7.72 7.72c-.78.78-.78 2.05 0 2.83L4 21.41c.39.39.9.59 1.41.59.51 0 1.02-.2 1.41-.59l7.78-7.78 2.81-2.81c.8-.78.8-2.07 0-2.86zM5.41 20L4 18.59l7.72-7.72 1.47 1.35L5.41 20z\"/>\n",
              "  </svg>\n",
              "      </button>\n",
              "      \n",
              "  <style>\n",
              "    .colab-df-container {\n",
              "      display:flex;\n",
              "      flex-wrap:wrap;\n",
              "      gap: 12px;\n",
              "    }\n",
              "\n",
              "    .colab-df-convert {\n",
              "      background-color: #E8F0FE;\n",
              "      border: none;\n",
              "      border-radius: 50%;\n",
              "      cursor: pointer;\n",
              "      display: none;\n",
              "      fill: #1967D2;\n",
              "      height: 32px;\n",
              "      padding: 0 0 0 0;\n",
              "      width: 32px;\n",
              "    }\n",
              "\n",
              "    .colab-df-convert:hover {\n",
              "      background-color: #E2EBFA;\n",
              "      box-shadow: 0px 1px 2px rgba(60, 64, 67, 0.3), 0px 1px 3px 1px rgba(60, 64, 67, 0.15);\n",
              "      fill: #174EA6;\n",
              "    }\n",
              "\n",
              "    [theme=dark] .colab-df-convert {\n",
              "      background-color: #3B4455;\n",
              "      fill: #D2E3FC;\n",
              "    }\n",
              "\n",
              "    [theme=dark] .colab-df-convert:hover {\n",
              "      background-color: #434B5C;\n",
              "      box-shadow: 0px 1px 3px 1px rgba(0, 0, 0, 0.15);\n",
              "      filter: drop-shadow(0px 1px 2px rgba(0, 0, 0, 0.3));\n",
              "      fill: #FFFFFF;\n",
              "    }\n",
              "  </style>\n",
              "\n",
              "      <script>\n",
              "        const buttonEl =\n",
              "          document.querySelector('#df-50c09e9e-cc9b-49b3-8620-9138c27ebd63 button.colab-df-convert');\n",
              "        buttonEl.style.display =\n",
              "          google.colab.kernel.accessAllowed ? 'block' : 'none';\n",
              "\n",
              "        async function convertToInteractive(key) {\n",
              "          const element = document.querySelector('#df-50c09e9e-cc9b-49b3-8620-9138c27ebd63');\n",
              "          const dataTable =\n",
              "            await google.colab.kernel.invokeFunction('convertToInteractive',\n",
              "                                                     [key], {});\n",
              "          if (!dataTable) return;\n",
              "\n",
              "          const docLinkHtml = 'Like what you see? Visit the ' +\n",
              "            '<a target=\"_blank\" href=https://colab.research.google.com/notebooks/data_table.ipynb>data table notebook</a>'\n",
              "            + ' to learn more about interactive tables.';\n",
              "          element.innerHTML = '';\n",
              "          dataTable['output_type'] = 'display_data';\n",
              "          await google.colab.output.renderOutput(dataTable, element);\n",
              "          const docLink = document.createElement('div');\n",
              "          docLink.innerHTML = docLinkHtml;\n",
              "          element.appendChild(docLink);\n",
              "        }\n",
              "      </script>\n",
              "    </div>\n",
              "  </div>\n",
              "  "
            ]
          },
          "metadata": {},
          "execution_count": 2
        }
      ],
      "source": [
        "df = pd.read_csv('/content/Median Age at First Marriage .csv')\n",
        "df.head()"
      ]
    },
    {
      "cell_type": "markdown",
      "id": "51a7a10c",
      "metadata": {
        "papermill": {
          "duration": 0.008059,
          "end_time": "2022-12-01T14:58:27.896909",
          "exception": false,
          "start_time": "2022-12-01T14:58:27.888850",
          "status": "completed"
        },
        "tags": [],
        "id": "51a7a10c"
      },
      "source": [
        "---"
      ]
    },
    {
      "cell_type": "markdown",
      "id": "bc2a496b",
      "metadata": {
        "papermill": {
          "duration": 0.008391,
          "end_time": "2022-12-01T14:58:27.913718",
          "exception": false,
          "start_time": "2022-12-01T14:58:27.905327",
          "status": "completed"
        },
        "tags": [],
        "id": "bc2a496b"
      },
      "source": [
        "### Data Cleaning"
      ]
    },
    {
      "cell_type": "code",
      "execution_count": null,
      "id": "d06a7075",
      "metadata": {
        "execution": {
          "iopub.execute_input": "2022-12-01T14:58:27.932498Z",
          "iopub.status.busy": "2022-12-01T14:58:27.931733Z",
          "iopub.status.idle": "2022-12-01T14:58:27.960335Z",
          "shell.execute_reply": "2022-12-01T14:58:27.958378Z"
        },
        "papermill": {
          "duration": 0.040528,
          "end_time": "2022-12-01T14:58:27.962681",
          "exception": false,
          "start_time": "2022-12-01T14:58:27.922153",
          "status": "completed"
        },
        "tags": [],
        "id": "d06a7075",
        "outputId": "e0281783-c8de-4024-a0dc-47b1309366f2"
      },
      "outputs": [
        {
          "name": "stdout",
          "output_type": "stream",
          "text": [
            "(104, 7)\n",
            "========================\n",
            "<class 'pandas.core.frame.DataFrame'>\n",
            "RangeIndex: 104 entries, 0 to 103\n",
            "Data columns (total 7 columns):\n",
            " #   Column                        Non-Null Count  Dtype  \n",
            "---  ------                        --------------  -----  \n",
            " 0   index                         104 non-null    int64  \n",
            " 1   FIPS                          104 non-null    object \n",
            " 2   Name                          104 non-null    object \n",
            " 3   Type                          104 non-null    object \n",
            " 4   TimeFrame                     104 non-null    object \n",
            " 5   Median Age                    104 non-null    float64\n",
            " 6   Population Density per Sq Mi  104 non-null    float64\n",
            "dtypes: float64(2), int64(1), object(4)\n",
            "memory usage: 5.8+ KB\n",
            "None\n"
          ]
        }
      ],
      "source": [
        "# number of rows and column of dataset\n",
        "print(df.shape)\n",
        "print('========================')\n",
        "print(df.info())"
      ]
    },
    {
      "cell_type": "markdown",
      "id": "1d784cf3",
      "metadata": {
        "papermill": {
          "duration": 0.008368,
          "end_time": "2022-12-01T14:58:27.979753",
          "exception": false,
          "start_time": "2022-12-01T14:58:27.971385",
          "status": "completed"
        },
        "tags": [],
        "id": "1d784cf3"
      },
      "source": [
        "Based on the shape and info, we can see that there is no null values. "
      ]
    },
    {
      "cell_type": "code",
      "execution_count": null,
      "id": "5d748f51",
      "metadata": {
        "execution": {
          "iopub.execute_input": "2022-12-01T14:58:27.999061Z",
          "iopub.status.busy": "2022-12-01T14:58:27.998299Z",
          "iopub.status.idle": "2022-12-01T14:58:28.006598Z",
          "shell.execute_reply": "2022-12-01T14:58:28.005550Z"
        },
        "papermill": {
          "duration": 0.02045,
          "end_time": "2022-12-01T14:58:28.008834",
          "exception": false,
          "start_time": "2022-12-01T14:58:27.988384",
          "status": "completed"
        },
        "tags": [],
        "id": "5d748f51",
        "outputId": "09c2d674-0650-4fd0-c3f8-01f36c02b6f6"
      },
      "outputs": [
        {
          "data": {
            "text/plain": [
              "2006-2010    52\n",
              "2015-2019    52\n",
              "Name: TimeFrame, dtype: int64"
            ]
          },
          "execution_count": 4,
          "metadata": {},
          "output_type": "execute_result"
        }
      ],
      "source": [
        "df.TimeFrame.value_counts()"
      ]
    },
    {
      "cell_type": "markdown",
      "id": "b035ac5f",
      "metadata": {
        "papermill": {
          "duration": 0.008448,
          "end_time": "2022-12-01T14:58:28.026241",
          "exception": false,
          "start_time": "2022-12-01T14:58:28.017793",
          "status": "completed"
        },
        "tags": [],
        "id": "b035ac5f"
      },
      "source": [
        "We can see that the dataset contains data from 2006-2010 and 2015-2019."
      ]
    },
    {
      "cell_type": "code",
      "execution_count": null,
      "id": "05bd9473",
      "metadata": {
        "execution": {
          "iopub.execute_input": "2022-12-01T14:58:28.045641Z",
          "iopub.status.busy": "2022-12-01T14:58:28.045227Z",
          "iopub.status.idle": "2022-12-01T14:58:28.052749Z",
          "shell.execute_reply": "2022-12-01T14:58:28.051873Z"
        },
        "papermill": {
          "duration": 0.019929,
          "end_time": "2022-12-01T14:58:28.054969",
          "exception": false,
          "start_time": "2022-12-01T14:58:28.035040",
          "status": "completed"
        },
        "tags": [],
        "id": "05bd9473",
        "outputId": "6ece1741-fbd4-44c6-9fbf-e34183f6a4d0"
      },
      "outputs": [
        {
          "data": {
            "text/plain": [
              "State      102\n",
              "Country      2\n",
              "Name: Type, dtype: int64"
            ]
          },
          "execution_count": 5,
          "metadata": {},
          "output_type": "execute_result"
        }
      ],
      "source": [
        "df.Type.value_counts()"
      ]
    },
    {
      "cell_type": "code",
      "execution_count": null,
      "id": "f41a0f59",
      "metadata": {
        "execution": {
          "iopub.execute_input": "2022-12-01T14:58:28.075475Z",
          "iopub.status.busy": "2022-12-01T14:58:28.074764Z",
          "iopub.status.idle": "2022-12-01T14:58:28.089619Z",
          "shell.execute_reply": "2022-12-01T14:58:28.088523Z"
        },
        "papermill": {
          "duration": 0.027451,
          "end_time": "2022-12-01T14:58:28.091820",
          "exception": false,
          "start_time": "2022-12-01T14:58:28.064369",
          "status": "completed"
        },
        "tags": [],
        "id": "f41a0f59",
        "outputId": "e6d8add6-b1e7-4aa2-b69f-65994fced689"
      },
      "outputs": [
        {
          "data": {
            "text/html": [
              "<div>\n",
              "<style scoped>\n",
              "    .dataframe tbody tr th:only-of-type {\n",
              "        vertical-align: middle;\n",
              "    }\n",
              "\n",
              "    .dataframe tbody tr th {\n",
              "        vertical-align: top;\n",
              "    }\n",
              "\n",
              "    .dataframe thead th {\n",
              "        text-align: right;\n",
              "    }\n",
              "</style>\n",
              "<table border=\"1\" class=\"dataframe\">\n",
              "  <thead>\n",
              "    <tr style=\"text-align: right;\">\n",
              "      <th></th>\n",
              "      <th>index</th>\n",
              "      <th>FIPS</th>\n",
              "      <th>Name</th>\n",
              "      <th>Type</th>\n",
              "      <th>TimeFrame</th>\n",
              "      <th>Median Age</th>\n",
              "      <th>Population Density per Sq Mi</th>\n",
              "    </tr>\n",
              "  </thead>\n",
              "  <tbody>\n",
              "    <tr>\n",
              "      <th>51</th>\n",
              "      <td>51</td>\n",
              "      <td>US</td>\n",
              "      <td>United States</td>\n",
              "      <td>Country</td>\n",
              "      <td>2006-2010</td>\n",
              "      <td>26.3</td>\n",
              "      <td>87.4</td>\n",
              "    </tr>\n",
              "    <tr>\n",
              "      <th>103</th>\n",
              "      <td>103</td>\n",
              "      <td>US</td>\n",
              "      <td>United States</td>\n",
              "      <td>Country</td>\n",
              "      <td>2015-2019</td>\n",
              "      <td>28.0</td>\n",
              "      <td>94.8</td>\n",
              "    </tr>\n",
              "  </tbody>\n",
              "</table>\n",
              "</div>"
            ],
            "text/plain": [
              "     index FIPS           Name     Type  TimeFrame  Median Age  \\\n",
              "51      51   US  United States  Country  2006-2010        26.3   \n",
              "103    103   US  United States  Country  2015-2019        28.0   \n",
              "\n",
              "     Population Density per Sq Mi  \n",
              "51                           87.4  \n",
              "103                          94.8  "
            ]
          },
          "execution_count": 6,
          "metadata": {},
          "output_type": "execute_result"
        }
      ],
      "source": [
        "df[df['Type'] == 'Country']"
      ]
    },
    {
      "cell_type": "markdown",
      "id": "e9ec45b1",
      "metadata": {
        "papermill": {
          "duration": 0.008592,
          "end_time": "2022-12-01T14:58:28.109525",
          "exception": false,
          "start_time": "2022-12-01T14:58:28.100933",
          "status": "completed"
        },
        "tags": [],
        "id": "e9ec45b1"
      },
      "source": [
        "From this, we can see that the dataset contains information about the country as a whole as well. "
      ]
    },
    {
      "cell_type": "code",
      "execution_count": null,
      "id": "de8d38e4",
      "metadata": {
        "execution": {
          "iopub.execute_input": "2022-12-01T14:58:28.130058Z",
          "iopub.status.busy": "2022-12-01T14:58:28.129453Z",
          "iopub.status.idle": "2022-12-01T14:58:28.135073Z",
          "shell.execute_reply": "2022-12-01T14:58:28.133882Z"
        },
        "papermill": {
          "duration": 0.019093,
          "end_time": "2022-12-01T14:58:28.137648",
          "exception": false,
          "start_time": "2022-12-01T14:58:28.118555",
          "status": "completed"
        },
        "tags": [],
        "id": "de8d38e4"
      },
      "outputs": [],
      "source": [
        "# keeping only columns we require\n",
        "df = df[['Name','Type','TimeFrame','Median Age','Population Density per Sq Mi']]"
      ]
    },
    {
      "cell_type": "code",
      "execution_count": null,
      "id": "c19a4222",
      "metadata": {
        "execution": {
          "iopub.execute_input": "2022-12-01T14:58:28.158044Z",
          "iopub.status.busy": "2022-12-01T14:58:28.157616Z",
          "iopub.status.idle": "2022-12-01T14:58:28.163638Z",
          "shell.execute_reply": "2022-12-01T14:58:28.162623Z"
        },
        "papermill": {
          "duration": 0.01923,
          "end_time": "2022-12-01T14:58:28.166451",
          "exception": false,
          "start_time": "2022-12-01T14:58:28.147221",
          "status": "completed"
        },
        "tags": [],
        "id": "c19a4222"
      },
      "outputs": [],
      "source": [
        "# we only want data of states\n",
        "df = df[df['Type'] == 'State']"
      ]
    },
    {
      "cell_type": "code",
      "execution_count": null,
      "id": "5ac6cc6f",
      "metadata": {
        "execution": {
          "iopub.execute_input": "2022-12-01T14:58:28.187535Z",
          "iopub.status.busy": "2022-12-01T14:58:28.187067Z",
          "iopub.status.idle": "2022-12-01T14:58:28.193235Z",
          "shell.execute_reply": "2022-12-01T14:58:28.192189Z"
        },
        "papermill": {
          "duration": 0.019357,
          "end_time": "2022-12-01T14:58:28.195548",
          "exception": false,
          "start_time": "2022-12-01T14:58:28.176191",
          "status": "completed"
        },
        "tags": [],
        "id": "5ac6cc6f"
      },
      "outputs": [],
      "source": [
        "# drop 'type' column as we do not need it \n",
        "df.drop(columns=['Type'], inplace=True)"
      ]
    },
    {
      "cell_type": "markdown",
      "id": "981d8dd4",
      "metadata": {
        "papermill": {
          "duration": 0.008785,
          "end_time": "2022-12-01T14:58:28.213679",
          "exception": false,
          "start_time": "2022-12-01T14:58:28.204894",
          "status": "completed"
        },
        "tags": [],
        "id": "981d8dd4"
      },
      "source": [
        "---"
      ]
    },
    {
      "cell_type": "markdown",
      "id": "de392bed",
      "metadata": {
        "papermill": {
          "duration": 0.009367,
          "end_time": "2022-12-01T14:58:28.232599",
          "exception": false,
          "start_time": "2022-12-01T14:58:28.223232",
          "status": "completed"
        },
        "tags": [],
        "id": "de392bed"
      },
      "source": [
        "### Data Dictionary"
      ]
    },
    {
      "cell_type": "markdown",
      "id": "ff0b1174",
      "metadata": {
        "papermill": {
          "duration": 0.009677,
          "end_time": "2022-12-01T14:58:28.251929",
          "exception": false,
          "start_time": "2022-12-01T14:58:28.242252",
          "status": "completed"
        },
        "tags": [],
        "id": "ff0b1174"
      },
      "source": [
        "|Column Name|Dtype|About|\n",
        "|---|---|---|\n",
        "|Name|object|Name of State in America|\n",
        "|TimeFrame|object|Data from 2006-2010 or 2015-2019|\n",
        "|Median Age|float|Median Age at First Marriage of Women|\n",
        "|Population Density per Sq Mi|float|Population Density per Sq Mi|"
      ]
    },
    {
      "cell_type": "markdown",
      "id": "673b3cbd",
      "metadata": {
        "papermill": {
          "duration": 0.008991,
          "end_time": "2022-12-01T14:58:28.271134",
          "exception": false,
          "start_time": "2022-12-01T14:58:28.262143",
          "status": "completed"
        },
        "tags": [],
        "id": "673b3cbd"
      },
      "source": [
        "---"
      ]
    },
    {
      "cell_type": "markdown",
      "id": "6d9c30fe",
      "metadata": {
        "papermill": {
          "duration": 0.008767,
          "end_time": "2022-12-01T14:58:28.289863",
          "exception": false,
          "start_time": "2022-12-01T14:58:28.281096",
          "status": "completed"
        },
        "tags": [],
        "id": "6d9c30fe"
      },
      "source": [
        "### Exploratory Data Analysis"
      ]
    },
    {
      "cell_type": "markdown",
      "id": "9cf17799",
      "metadata": {
        "papermill": {
          "duration": 0.008732,
          "end_time": "2022-12-01T14:58:28.308326",
          "exception": false,
          "start_time": "2022-12-01T14:58:28.299594",
          "status": "completed"
        },
        "tags": [],
        "id": "9cf17799"
      },
      "source": [
        "##### **Distributions**"
      ]
    },
    {
      "cell_type": "code",
      "execution_count": null,
      "id": "10ecadd2",
      "metadata": {
        "execution": {
          "iopub.execute_input": "2022-12-01T14:58:28.328669Z",
          "iopub.status.busy": "2022-12-01T14:58:28.328231Z",
          "iopub.status.idle": "2022-12-01T14:58:28.888202Z",
          "shell.execute_reply": "2022-12-01T14:58:28.887131Z"
        },
        "papermill": {
          "duration": 0.573245,
          "end_time": "2022-12-01T14:58:28.890638",
          "exception": false,
          "start_time": "2022-12-01T14:58:28.317393",
          "status": "completed"
        },
        "tags": [],
        "id": "10ecadd2",
        "outputId": "df068d08-bd95-4296-d9e2-5360e845a611"
      },
      "outputs": [
        {
          "data": {
            "image/png": "[encoded data removed]",
            "text/plain": [
              "<Figure size 1440x576 with 2 Axes>"
            ]
          },
          "metadata": {
            "needs_background": "light"
          },
          "output_type": "display_data"
        }
      ],
      "source": [
        "plt.figure(figsize=(20,8))\n",
        "plt.subplot(1,2,1)\n",
        "color = {'2006-2010':\"cadetblue\",'2015-2019':'indianred'}\n",
        "sns.boxplot(x=df['Median Age'], y =df['TimeFrame'],palette=color)\n",
        "plt.title('Box Plot of Median Age at First Marriage by Time Frame', fontsize=15, fontweight='bold')\n",
        "plt.ylabel('Time Frame')\n",
        "\n",
        "plt.subplot(1,2,2)\n",
        "sns.histplot(x=df['Median Age'].loc[df['TimeFrame'] == '2006-2010'], kde=True, color='cadetblue')\n",
        "sns.histplot(x=df['Median Age'].loc[df['TimeFrame'] == '2015-2019'], kde=True, color='indianred')\n",
        "plt.title('Histogram of Median Age at First Marriage of 2006-2010 and 2015-2019', fontsize=15, fontweight='bold')\n",
        "\n",
        "plt.show()"
      ]
    },
    {
      "cell_type": "markdown",
      "id": "03545e22",
      "metadata": {
        "papermill": {
          "duration": 0.0096,
          "end_time": "2022-12-01T14:58:28.910498",
          "exception": false,
          "start_time": "2022-12-01T14:58:28.900898",
          "status": "completed"
        },
        "tags": [],
        "id": "03545e22"
      },
      "source": [
        "According to the plots above, we can see that for 2006 to 2010, the datapoints are less spread out as compared to 2015 to 2019. This means that there is **more variation in the age women choose to have their first marriage**.\n",
        "\n",
        "We also can see that there is an increase in the median of the median of age at first marriage. The median increased from approximately 26 to approximately 28. From this, I can infer that **more women are choosing to have their first marriage at a later age**. \n",
        "\n",
        "There are outliers from 2006 to 2010. Based on the boxplot, we can see that there are four states with the median of age at first marriage numerically distant from the rest of the medians. However in 2015-2019 we see that there are no outliers. This means that the distribution is starting to be more inclusive as the spread of data gets wider. "
      ]
    },
    {
      "cell_type": "markdown",
      "id": "3eb9be4e",
      "metadata": {
        "papermill": {
          "duration": 0.009577,
          "end_time": "2022-12-01T14:58:28.930997",
          "exception": false,
          "start_time": "2022-12-01T14:58:28.921420",
          "status": "completed"
        },
        "tags": [],
        "id": "3eb9be4e"
      },
      "source": [
        "##### **Correlations**"
      ]
    },
    {
      "cell_type": "code",
      "execution_count": null,
      "id": "42c80ea0",
      "metadata": {
        "execution": {
          "iopub.execute_input": "2022-12-01T14:58:28.953238Z",
          "iopub.status.busy": "2022-12-01T14:58:28.952065Z",
          "iopub.status.idle": "2022-12-01T14:58:29.513047Z",
          "shell.execute_reply": "2022-12-01T14:58:29.512078Z"
        },
        "papermill": {
          "duration": 0.574313,
          "end_time": "2022-12-01T14:58:29.515208",
          "exception": false,
          "start_time": "2022-12-01T14:58:28.940895",
          "status": "completed"
        },
        "tags": [],
        "id": "42c80ea0",
        "outputId": "841122de-4b83-4f58-f1f1-65fc6ba6c277"
      },
      "outputs": [
        {
          "data": {
            "image/png": "[encoded data removed]",
            "text/plain": [
              "<Figure size 1440x360 with 2 Axes>"
            ]
          },
          "metadata": {
            "needs_background": "light"
          },
          "output_type": "display_data"
        }
      ],
      "source": [
        "plt.figure(figsize=(20,5))\n",
        "plt.subplot(1,2,1)\n",
        "sns.regplot(data=df, x='Population Density per Sq Mi', y='Median Age')\n",
        "plt.title('Population Density per Sq Mi vs Median Age', fontweight='bold')\n",
        "\n",
        "plt.subplot(1,2,2)\n",
        "sns.regplot(data=df.loc[df['Population Density per Sq Mi'] < 2000], x='Population Density per Sq Mi', y='Median Age')\n",
        "plt.title('Population Density per Sq Mi < 2000 vs Median Age', fontweight='bold')\n",
        "\n",
        "plt.show()\n"
      ]
    },
    {
      "cell_type": "code",
      "execution_count": null,
      "id": "6db62871",
      "metadata": {
        "execution": {
          "iopub.execute_input": "2022-12-01T14:58:29.538542Z",
          "iopub.status.busy": "2022-12-01T14:58:29.537891Z",
          "iopub.status.idle": "2022-12-01T14:58:29.549296Z",
          "shell.execute_reply": "2022-12-01T14:58:29.548240Z"
        },
        "papermill": {
          "duration": 0.025664,
          "end_time": "2022-12-01T14:58:29.551671",
          "exception": false,
          "start_time": "2022-12-01T14:58:29.526007",
          "status": "completed"
        },
        "tags": [],
        "id": "6db62871",
        "outputId": "d46e07eb-db1b-4e01-aab0-4a9b22f44061"
      },
      "outputs": [
        {
          "data": {
            "text/html": [
              "<div>\n",
              "<style scoped>\n",
              "    .dataframe tbody tr th:only-of-type {\n",
              "        vertical-align: middle;\n",
              "    }\n",
              "\n",
              "    .dataframe tbody tr th {\n",
              "        vertical-align: top;\n",
              "    }\n",
              "\n",
              "    .dataframe thead th {\n",
              "        text-align: right;\n",
              "    }\n",
              "</style>\n",
              "<table border=\"1\" class=\"dataframe\">\n",
              "  <thead>\n",
              "    <tr style=\"text-align: right;\">\n",
              "      <th></th>\n",
              "      <th>Median Age</th>\n",
              "      <th>Population Density per Sq Mi</th>\n",
              "    </tr>\n",
              "  </thead>\n",
              "  <tbody>\n",
              "    <tr>\n",
              "      <th>Median Age</th>\n",
              "      <td>1.000000</td>\n",
              "      <td>0.413896</td>\n",
              "    </tr>\n",
              "    <tr>\n",
              "      <th>Population Density per Sq Mi</th>\n",
              "      <td>0.413896</td>\n",
              "      <td>1.000000</td>\n",
              "    </tr>\n",
              "  </tbody>\n",
              "</table>\n",
              "</div>"
            ],
            "text/plain": [
              "                              Median Age  Population Density per Sq Mi\n",
              "Median Age                      1.000000                      0.413896\n",
              "Population Density per Sq Mi    0.413896                      1.000000"
            ]
          },
          "execution_count": 12,
          "metadata": {},
          "output_type": "execute_result"
        }
      ],
      "source": [
        "# correlation coefficients\n",
        "df.corr()"
      ]
    },
    {
      "cell_type": "markdown",
      "id": "9e91dc46",
      "metadata": {
        "papermill": {
          "duration": 0.010418,
          "end_time": "2022-12-01T14:58:29.573035",
          "exception": false,
          "start_time": "2022-12-01T14:58:29.562617",
          "status": "completed"
        },
        "tags": [],
        "id": "9e91dc46"
      },
      "source": [
        "Based on the regression plot above, we can see that there is a **positive correlation** between population density per sq mi and median age. However, it is **not necessarily a strong postitive correlation** as the correlation coefficient is only 0.41. "
      ]
    },
    {
      "cell_type": "code",
      "execution_count": null,
      "id": "c47410dc",
      "metadata": {
        "execution": {
          "iopub.execute_input": "2022-12-01T14:58:29.596778Z",
          "iopub.status.busy": "2022-12-01T14:58:29.596322Z",
          "iopub.status.idle": "2022-12-01T14:58:30.140694Z",
          "shell.execute_reply": "2022-12-01T14:58:30.139495Z"
        },
        "papermill": {
          "duration": 0.558923,
          "end_time": "2022-12-01T14:58:30.143144",
          "exception": false,
          "start_time": "2022-12-01T14:58:29.584221",
          "status": "completed"
        },
        "tags": [],
        "id": "c47410dc",
        "outputId": "74efa9bd-446c-4e5f-ecbb-14084637fe10"
      },
      "outputs": [
        {
          "data": {
            "image/png": "[encoded data removed]",
            "text/plain": [
              "<Figure size 1440x360 with 2 Axes>"
            ]
          },
          "metadata": {
            "needs_background": "light"
          },
          "output_type": "display_data"
        }
      ],
      "source": [
        "plt.figure(figsize=(20,5))\n",
        "plt.subplot(1,2,1)\n",
        "sns.regplot(data=df[(df['TimeFrame'] == '2006-2010') & (df['Population Density per Sq Mi'] < 2000)], x='Population Density per Sq Mi', y='Median Age')\n",
        "plt.title('Regression Plot of Population Density vs Median Age (2006-2010)', fontweight='bold')\n",
        "\n",
        "plt.subplot(1,2,2)\n",
        "sns.regplot(data=df[(df['TimeFrame'] == '2015-2019') & (df['Population Density per Sq Mi'] < 2000)], x='Population Density per Sq Mi', y='Median Age')\n",
        "plt.title('Regression Plot of Population Density vs Median Age (2015-2019)', fontweight='bold')\n",
        "\n",
        "plt.show()"
      ]
    },
    {
      "cell_type": "markdown",
      "id": "a0de65bf",
      "metadata": {
        "papermill": {
          "duration": 0.011117,
          "end_time": "2022-12-01T14:58:30.166068",
          "exception": false,
          "start_time": "2022-12-01T14:58:30.154951",
          "status": "completed"
        },
        "tags": [],
        "id": "a0de65bf"
      },
      "source": [
        "It is definitely interesting to see that as population density per sq mi increase, the median age at first marriage increases. This could signify that as youths have more choices, they may be less likely to settle down early. \n",
        "\n",
        "Also as technology improves over the years, youths also have access to dating applications such as Tinder. This means that people may not be limited to selecting candidates from the state that they reside in as dating applications allows users to set their search distance to many kilometers away. Which could be a possible cause for the increase in variation and median age women have their first marriage in states with population density per sq mi of less than 200.\n",
        "\n",
        "In addition, with feminism and gender equality gaining traction over the years, it also serves as a factor for the increase in median age at first marriage."
      ]
    },
    {
      "cell_type": "code",
      "execution_count": null,
      "id": "9cabe9b8",
      "metadata": {
        "execution": {
          "iopub.execute_input": "2022-12-01T14:58:30.190655Z",
          "iopub.status.busy": "2022-12-01T14:58:30.190217Z",
          "iopub.status.idle": "2022-12-01T14:58:30.202398Z",
          "shell.execute_reply": "2022-12-01T14:58:30.201222Z"
        },
        "papermill": {
          "duration": 0.027244,
          "end_time": "2022-12-01T14:58:30.204700",
          "exception": false,
          "start_time": "2022-12-01T14:58:30.177456",
          "status": "completed"
        },
        "tags": [],
        "id": "9cabe9b8",
        "outputId": "88464a35-0764-4dcb-f465-d4adfa022b17"
      },
      "outputs": [
        {
          "data": {
            "text/html": [
              "<div>\n",
              "<style scoped>\n",
              "    .dataframe tbody tr th:only-of-type {\n",
              "        vertical-align: middle;\n",
              "    }\n",
              "\n",
              "    .dataframe tbody tr th {\n",
              "        vertical-align: top;\n",
              "    }\n",
              "\n",
              "    .dataframe thead th {\n",
              "        text-align: right;\n",
              "    }\n",
              "</style>\n",
              "<table border=\"1\" class=\"dataframe\">\n",
              "  <thead>\n",
              "    <tr style=\"text-align: right;\">\n",
              "      <th></th>\n",
              "      <th>Median Age</th>\n",
              "      <th>Population Density per Sq Mi</th>\n",
              "    </tr>\n",
              "  </thead>\n",
              "  <tbody>\n",
              "    <tr>\n",
              "      <th>Median Age</th>\n",
              "      <td>1.000000</td>\n",
              "      <td>0.523611</td>\n",
              "    </tr>\n",
              "    <tr>\n",
              "      <th>Population Density per Sq Mi</th>\n",
              "      <td>0.523611</td>\n",
              "      <td>1.000000</td>\n",
              "    </tr>\n",
              "  </tbody>\n",
              "</table>\n",
              "</div>"
            ],
            "text/plain": [
              "                              Median Age  Population Density per Sq Mi\n",
              "Median Age                      1.000000                      0.523611\n",
              "Population Density per Sq Mi    0.523611                      1.000000"
            ]
          },
          "execution_count": 14,
          "metadata": {},
          "output_type": "execute_result"
        }
      ],
      "source": [
        "df[df['TimeFrame'] == '2006-2010'].corr()"
      ]
    },
    {
      "cell_type": "code",
      "execution_count": null,
      "id": "86d229e4",
      "metadata": {
        "execution": {
          "iopub.execute_input": "2022-12-01T14:58:30.230293Z",
          "iopub.status.busy": "2022-12-01T14:58:30.229587Z",
          "iopub.status.idle": "2022-12-01T14:58:30.240524Z",
          "shell.execute_reply": "2022-12-01T14:58:30.239625Z"
        },
        "papermill": {
          "duration": 0.026169,
          "end_time": "2022-12-01T14:58:30.242650",
          "exception": false,
          "start_time": "2022-12-01T14:58:30.216481",
          "status": "completed"
        },
        "tags": [],
        "id": "86d229e4",
        "outputId": "8172597d-4bc4-44f9-b5ce-0fb9e06bb287"
      },
      "outputs": [
        {
          "data": {
            "text/html": [
              "<div>\n",
              "<style scoped>\n",
              "    .dataframe tbody tr th:only-of-type {\n",
              "        vertical-align: middle;\n",
              "    }\n",
              "\n",
              "    .dataframe tbody tr th {\n",
              "        vertical-align: top;\n",
              "    }\n",
              "\n",
              "    .dataframe thead th {\n",
              "        text-align: right;\n",
              "    }\n",
              "</style>\n",
              "<table border=\"1\" class=\"dataframe\">\n",
              "  <thead>\n",
              "    <tr style=\"text-align: right;\">\n",
              "      <th></th>\n",
              "      <th>Median Age</th>\n",
              "      <th>Population Density per Sq Mi</th>\n",
              "    </tr>\n",
              "  </thead>\n",
              "  <tbody>\n",
              "    <tr>\n",
              "      <th>Median Age</th>\n",
              "      <td>1.000000</td>\n",
              "      <td>0.438343</td>\n",
              "    </tr>\n",
              "    <tr>\n",
              "      <th>Population Density per Sq Mi</th>\n",
              "      <td>0.438343</td>\n",
              "      <td>1.000000</td>\n",
              "    </tr>\n",
              "  </tbody>\n",
              "</table>\n",
              "</div>"
            ],
            "text/plain": [
              "                              Median Age  Population Density per Sq Mi\n",
              "Median Age                      1.000000                      0.438343\n",
              "Population Density per Sq Mi    0.438343                      1.000000"
            ]
          },
          "execution_count": 15,
          "metadata": {},
          "output_type": "execute_result"
        }
      ],
      "source": [
        "df[df['TimeFrame'] == '2015-2019'].corr()"
      ]
    },
    {
      "cell_type": "markdown",
      "id": "8dae3de9",
      "metadata": {
        "papermill": {
          "duration": 0.01126,
          "end_time": "2022-12-01T14:58:30.265761",
          "exception": false,
          "start_time": "2022-12-01T14:58:30.254501",
          "status": "completed"
        },
        "tags": [],
        "id": "8dae3de9"
      },
      "source": [
        "We can see that the correlation coefficient of population density per sq mi vs median age went down by 0.08. This means that increase in population density per sq mi have a lesser impact on the median age."
      ]
    },
    {
      "cell_type": "markdown",
      "id": "4c65d30f",
      "metadata": {
        "papermill": {
          "duration": 0.01135,
          "end_time": "2022-12-01T14:58:30.288868",
          "exception": false,
          "start_time": "2022-12-01T14:58:30.277518",
          "status": "completed"
        },
        "tags": [],
        "id": "4c65d30f"
      },
      "source": [
        "---"
      ]
    },
    {
      "cell_type": "markdown",
      "id": "3e93bc4a",
      "metadata": {
        "papermill": {
          "duration": 0.01166,
          "end_time": "2022-12-01T14:58:30.312615",
          "exception": false,
          "start_time": "2022-12-01T14:58:30.300955",
          "status": "completed"
        },
        "tags": [],
        "id": "3e93bc4a"
      },
      "source": [
        "### Conclusion & Recommendations"
      ]
    },
    {
      "cell_type": "markdown",
      "id": "2c7added",
      "metadata": {
        "papermill": {
          "duration": 0.011289,
          "end_time": "2022-12-01T14:58:30.335769",
          "exception": false,
          "start_time": "2022-12-01T14:58:30.324480",
          "status": "completed"
        },
        "tags": [],
        "id": "2c7added"
      },
      "source": [
        "**Conclusion**\n",
        "\n",
        "In conclusion, from this short analysis, we found out that population density has an impact on median age women choose to get married. However, the **impact is not that significant**. Over the years, as factors such as **dating applications** and **feminism and gender equality movements** becoming more prevalent, the **correlation between population density and median age at first marriage would definitely get weaker and weaker**. \n",
        "\n",
        "\n",
        "**Recommendation**\n",
        "\n",
        "1) In the future, we could definitely scale up this analysis by using other related datasets and we could study whether there are other factors that could contribute to the movements in median age at first marriage.\n",
        "\n",
        "2) If we were able to gather more factors that could contribute to the movements in median age at first marriage, we could also train a machine learning model to forecast what the median age at first marriage for women in the future."
      ]
    },
    {
      "cell_type": "markdown",
      "id": "f48c4c62",
      "metadata": {
        "papermill": {
          "duration": 0.011229,
          "end_time": "2022-12-01T14:58:30.358612",
          "exception": false,
          "start_time": "2022-12-01T14:58:30.347383",
          "status": "completed"
        },
        "tags": [],
        "id": "f48c4c62"
      },
      "source": [
        "---"
      ]
    }
  ],
  "metadata": {
    "kernelspec": {
      "display_name": "Python 3",
      "language": "python",
      "name": "python3"
    },
    "language_info": {
      "codemirror_mode": {
        "name": "ipython",
        "version": 3
      },
      "file_extension": ".py",
      "mimetype": "text/x-python",
      "name": "python",
      "nbconvert_exporter": "python",
      "pygments_lexer": "ipython3",
      "version": "3.7.12"
    },
    "papermill": {
      "default_parameters": {},
      "duration": 13.406621,
      "end_time": "2022-12-01T14:58:31.093584",
      "environment_variables": {},
      "exception": null,
      "input_path": "__notebook__.ipynb",
      "output_path": "__notebook__.ipynb",
      "parameters": {},
      "start_time": "2022-12-01T14:58:17.686963",
      "version": "2.3.4"
    },
    "colab": {
      "provenance": []
    }
  },
  "nbformat": 4,
  "nbformat_minor": 5
}